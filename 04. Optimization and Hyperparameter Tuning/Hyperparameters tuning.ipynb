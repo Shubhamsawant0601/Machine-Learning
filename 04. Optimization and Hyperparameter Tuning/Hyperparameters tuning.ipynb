{
 "cells": [
  {
   "cell_type": "markdown",
   "id": "7290af2d",
   "metadata": {},
   "source": [
    "# Hyperparameters tuning\n",
    "\n",
    "Need of Hyperparameter tuning\n",
    "\n",
    "- Our models are fitted on perticular dataset, so we ma need to change the hyperparmeters on changing the datasets.\n"
   ]
  },
  {
   "cell_type": "code",
   "execution_count": 1,
   "id": "9188e06a",
   "metadata": {},
   "outputs": [],
   "source": [
    "import numpy as np\n",
    "import pandas as pd\n",
    "import seaborn as sns\n",
    "import matplotlib as plt\n",
    "from sklearn.model_selection import train_test_split\n",
    "from sklearn.ensemble import RandomForestClassifier\n",
    "from sklearn.metrics import confusion_matrix, classification_report,accuracy_score \n",
    "\n",
    "import warnings\n",
    "warnings.filterwarnings('ignore')\n",
    "\n"
   ]
  },
  {
   "cell_type": "markdown",
   "id": "07d3801c",
   "metadata": {},
   "source": [
    "### 1. Loading Data"
   ]
  },
  {
   "cell_type": "code",
   "execution_count": 2,
   "id": "12f4a745",
   "metadata": {},
   "outputs": [
    {
     "data": {
      "text/html": [
       "<div>\n",
       "<style scoped>\n",
       "    .dataframe tbody tr th:only-of-type {\n",
       "        vertical-align: middle;\n",
       "    }\n",
       "\n",
       "    .dataframe tbody tr th {\n",
       "        vertical-align: top;\n",
       "    }\n",
       "\n",
       "    .dataframe thead th {\n",
       "        text-align: right;\n",
       "    }\n",
       "</style>\n",
       "<table border=\"1\" class=\"dataframe\">\n",
       "  <thead>\n",
       "    <tr style=\"text-align: right;\">\n",
       "      <th></th>\n",
       "      <th>Pregnancies</th>\n",
       "      <th>Glucose</th>\n",
       "      <th>BloodPressure</th>\n",
       "      <th>SkinThickness</th>\n",
       "      <th>Insulin</th>\n",
       "      <th>BMI</th>\n",
       "      <th>DiabetesPedigreeFunction</th>\n",
       "      <th>Age</th>\n",
       "      <th>Outcome</th>\n",
       "    </tr>\n",
       "  </thead>\n",
       "  <tbody>\n",
       "    <tr>\n",
       "      <th>0</th>\n",
       "      <td>6</td>\n",
       "      <td>148</td>\n",
       "      <td>72</td>\n",
       "      <td>35</td>\n",
       "      <td>0</td>\n",
       "      <td>33.6</td>\n",
       "      <td>0.627</td>\n",
       "      <td>50</td>\n",
       "      <td>1</td>\n",
       "    </tr>\n",
       "    <tr>\n",
       "      <th>1</th>\n",
       "      <td>1</td>\n",
       "      <td>85</td>\n",
       "      <td>66</td>\n",
       "      <td>29</td>\n",
       "      <td>0</td>\n",
       "      <td>26.6</td>\n",
       "      <td>0.351</td>\n",
       "      <td>31</td>\n",
       "      <td>0</td>\n",
       "    </tr>\n",
       "    <tr>\n",
       "      <th>2</th>\n",
       "      <td>8</td>\n",
       "      <td>183</td>\n",
       "      <td>64</td>\n",
       "      <td>0</td>\n",
       "      <td>0</td>\n",
       "      <td>23.3</td>\n",
       "      <td>0.672</td>\n",
       "      <td>32</td>\n",
       "      <td>1</td>\n",
       "    </tr>\n",
       "    <tr>\n",
       "      <th>3</th>\n",
       "      <td>1</td>\n",
       "      <td>89</td>\n",
       "      <td>66</td>\n",
       "      <td>23</td>\n",
       "      <td>94</td>\n",
       "      <td>28.1</td>\n",
       "      <td>0.167</td>\n",
       "      <td>21</td>\n",
       "      <td>0</td>\n",
       "    </tr>\n",
       "    <tr>\n",
       "      <th>4</th>\n",
       "      <td>0</td>\n",
       "      <td>137</td>\n",
       "      <td>40</td>\n",
       "      <td>35</td>\n",
       "      <td>168</td>\n",
       "      <td>43.1</td>\n",
       "      <td>2.288</td>\n",
       "      <td>33</td>\n",
       "      <td>1</td>\n",
       "    </tr>\n",
       "  </tbody>\n",
       "</table>\n",
       "</div>"
      ],
      "text/plain": [
       "   Pregnancies  Glucose  BloodPressure  SkinThickness  Insulin   BMI  \\\n",
       "0            6      148             72             35        0  33.6   \n",
       "1            1       85             66             29        0  26.6   \n",
       "2            8      183             64              0        0  23.3   \n",
       "3            1       89             66             23       94  28.1   \n",
       "4            0      137             40             35      168  43.1   \n",
       "\n",
       "   DiabetesPedigreeFunction  Age  Outcome  \n",
       "0                     0.627   50        1  \n",
       "1                     0.351   31        0  \n",
       "2                     0.672   32        1  \n",
       "3                     0.167   21        0  \n",
       "4                     2.288   33        1  "
      ]
     },
     "execution_count": 2,
     "metadata": {},
     "output_type": "execute_result"
    }
   ],
   "source": [
    "df = pd.read_csv('diabetes.csv')\n",
    "df.head()"
   ]
  },
  {
   "cell_type": "markdown",
   "id": "e3e3455b",
   "metadata": {},
   "source": [
    "### 2. Preprocessing"
   ]
  },
  {
   "cell_type": "code",
   "execution_count": 3,
   "id": "7852334f",
   "metadata": {},
   "outputs": [],
   "source": [
    "df[\"Glucose\"] = np.where(df[\"Glucose\"]==0, df[\"Glucose\"].median(), df[\"Glucose\"])\n",
    "df[\"Insulin\"] = np.where(df[\"Insulin\"]==0, df[\"Insulin\"].median(), df[\"Insulin\"])\n",
    "df[\"SkinThickness\"] = np.where(df[\"SkinThickness\"]==0, df[\"SkinThickness\"].median(), df[\"SkinThickness\"])"
   ]
  },
  {
   "cell_type": "markdown",
   "id": "7ac7eb6b",
   "metadata": {},
   "source": [
    "### 3. Splitting into Features and Targets"
   ]
  },
  {
   "cell_type": "code",
   "execution_count": 4,
   "id": "519fb6c5",
   "metadata": {},
   "outputs": [],
   "source": [
    "x = df.drop([\"Outcome\"], axis=1)\n",
    "y = df[\"Outcome\"]"
   ]
  },
  {
   "cell_type": "code",
   "execution_count": 5,
   "id": "6a4f1838",
   "metadata": {},
   "outputs": [
    {
     "data": {
      "text/html": [
       "<div>\n",
       "<style scoped>\n",
       "    .dataframe tbody tr th:only-of-type {\n",
       "        vertical-align: middle;\n",
       "    }\n",
       "\n",
       "    .dataframe tbody tr th {\n",
       "        vertical-align: top;\n",
       "    }\n",
       "\n",
       "    .dataframe thead th {\n",
       "        text-align: right;\n",
       "    }\n",
       "</style>\n",
       "<table border=\"1\" class=\"dataframe\">\n",
       "  <thead>\n",
       "    <tr style=\"text-align: right;\">\n",
       "      <th></th>\n",
       "      <th>Pregnancies</th>\n",
       "      <th>Glucose</th>\n",
       "      <th>BloodPressure</th>\n",
       "      <th>SkinThickness</th>\n",
       "      <th>Insulin</th>\n",
       "      <th>BMI</th>\n",
       "      <th>DiabetesPedigreeFunction</th>\n",
       "      <th>Age</th>\n",
       "    </tr>\n",
       "  </thead>\n",
       "  <tbody>\n",
       "    <tr>\n",
       "      <th>0</th>\n",
       "      <td>6</td>\n",
       "      <td>148.0</td>\n",
       "      <td>72</td>\n",
       "      <td>35.0</td>\n",
       "      <td>30.5</td>\n",
       "      <td>33.6</td>\n",
       "      <td>0.627</td>\n",
       "      <td>50</td>\n",
       "    </tr>\n",
       "    <tr>\n",
       "      <th>1</th>\n",
       "      <td>1</td>\n",
       "      <td>85.0</td>\n",
       "      <td>66</td>\n",
       "      <td>29.0</td>\n",
       "      <td>30.5</td>\n",
       "      <td>26.6</td>\n",
       "      <td>0.351</td>\n",
       "      <td>31</td>\n",
       "    </tr>\n",
       "    <tr>\n",
       "      <th>2</th>\n",
       "      <td>8</td>\n",
       "      <td>183.0</td>\n",
       "      <td>64</td>\n",
       "      <td>23.0</td>\n",
       "      <td>30.5</td>\n",
       "      <td>23.3</td>\n",
       "      <td>0.672</td>\n",
       "      <td>32</td>\n",
       "    </tr>\n",
       "    <tr>\n",
       "      <th>3</th>\n",
       "      <td>1</td>\n",
       "      <td>89.0</td>\n",
       "      <td>66</td>\n",
       "      <td>23.0</td>\n",
       "      <td>94.0</td>\n",
       "      <td>28.1</td>\n",
       "      <td>0.167</td>\n",
       "      <td>21</td>\n",
       "    </tr>\n",
       "    <tr>\n",
       "      <th>4</th>\n",
       "      <td>0</td>\n",
       "      <td>137.0</td>\n",
       "      <td>40</td>\n",
       "      <td>35.0</td>\n",
       "      <td>168.0</td>\n",
       "      <td>43.1</td>\n",
       "      <td>2.288</td>\n",
       "      <td>33</td>\n",
       "    </tr>\n",
       "  </tbody>\n",
       "</table>\n",
       "</div>"
      ],
      "text/plain": [
       "   Pregnancies  Glucose  BloodPressure  SkinThickness  Insulin   BMI  \\\n",
       "0            6    148.0             72           35.0     30.5  33.6   \n",
       "1            1     85.0             66           29.0     30.5  26.6   \n",
       "2            8    183.0             64           23.0     30.5  23.3   \n",
       "3            1     89.0             66           23.0     94.0  28.1   \n",
       "4            0    137.0             40           35.0    168.0  43.1   \n",
       "\n",
       "   DiabetesPedigreeFunction  Age  \n",
       "0                     0.627   50  \n",
       "1                     0.351   31  \n",
       "2                     0.672   32  \n",
       "3                     0.167   21  \n",
       "4                     2.288   33  "
      ]
     },
     "execution_count": 5,
     "metadata": {},
     "output_type": "execute_result"
    }
   ],
   "source": [
    "x.head()"
   ]
  },
  {
   "cell_type": "code",
   "execution_count": 6,
   "id": "cd6be65d",
   "metadata": {},
   "outputs": [
    {
     "data": {
      "text/plain": [
       "0    1\n",
       "1    0\n",
       "2    1\n",
       "3    0\n",
       "4    1\n",
       "Name: Outcome, dtype: int64"
      ]
     },
     "execution_count": 6,
     "metadata": {},
     "output_type": "execute_result"
    }
   ],
   "source": [
    "y.head()"
   ]
  },
  {
   "cell_type": "markdown",
   "id": "09b4afac",
   "metadata": {},
   "source": [
    "### 4. Splitting into Train and Test"
   ]
  },
  {
   "cell_type": "code",
   "execution_count": 7,
   "id": "a296398c",
   "metadata": {},
   "outputs": [],
   "source": [
    "x_train, x_test, y_train, y_test = train_test_split(x,y, test_size=0.2, random_state=33)"
   ]
  },
  {
   "cell_type": "markdown",
   "id": "1f41a03d",
   "metadata": {},
   "source": [
    "### 5.  RandomForestClassifier model"
   ]
  },
  {
   "cell_type": "code",
   "execution_count": 8,
   "id": "a42f36d9",
   "metadata": {},
   "outputs": [],
   "source": [
    "rf = RandomForestClassifier(n_estimators=10)\n",
    "\n",
    "rf.fit(x_train, y_train)\n",
    "\n",
    "y_pred = rf.predict(x_test)\n",
    "\n"
   ]
  },
  {
   "cell_type": "markdown",
   "id": "d1deb1cf",
   "metadata": {},
   "source": [
    "### 6. Evaluating model"
   ]
  },
  {
   "cell_type": "code",
   "execution_count": 9,
   "id": "b8df6394",
   "metadata": {},
   "outputs": [
    {
     "data": {
      "text/plain": [
       "0.7467532467532467"
      ]
     },
     "execution_count": 9,
     "metadata": {},
     "output_type": "execute_result"
    }
   ],
   "source": [
    "rf.score(x_test, y_test)"
   ]
  },
  {
   "cell_type": "code",
   "execution_count": 10,
   "id": "fecc4f99",
   "metadata": {},
   "outputs": [
    {
     "name": "stdout",
     "output_type": "stream",
     "text": [
      "              precision    recall  f1-score   support\n",
      "\n",
      "           0       0.75      0.92      0.82        99\n",
      "           1       0.75      0.44      0.55        55\n",
      "\n",
      "    accuracy                           0.75       154\n",
      "   macro avg       0.75      0.68      0.69       154\n",
      "weighted avg       0.75      0.75      0.73       154\n",
      "\n"
     ]
    }
   ],
   "source": [
    "cr = classification_report(y_test, y_pred)\n",
    "print(cr)"
   ]
  },
  {
   "cell_type": "code",
   "execution_count": 11,
   "id": "1309d20c",
   "metadata": {},
   "outputs": [
    {
     "data": {
      "text/plain": [
       "<AxesSubplot:>"
      ]
     },
     "execution_count": 11,
     "metadata": {},
     "output_type": "execute_result"
    },
    {
     "data": {
      "image/png": "[encoded data removed]",
      "text/plain": [
       "<Figure size 432x288 with 2 Axes>"
      ]
     },
     "metadata": {
      "needs_background": "light"
     },
     "output_type": "display_data"
    }
   ],
   "source": [
    "sns.heatmap(confusion_matrix(y_test, y_pred), annot=True)"
   ]
  },
  {
   "cell_type": "markdown",
   "id": "fb89b30c",
   "metadata": {},
   "source": [
    "# Hyperparameter Tunning"
   ]
  },
  {
   "cell_type": "markdown",
   "id": "781a6c48",
   "metadata": {},
   "source": [
    "## 1. Manual hyperparameter tuning \n",
    "Parameters are assigned based on our knowledge."
   ]
  },
  {
   "cell_type": "code",
   "execution_count": 12,
   "id": "b1f28a22",
   "metadata": {},
   "outputs": [],
   "source": [
    "model = RandomForestClassifier(\n",
    "                 n_estimators=500,\n",
    "                 criterion = 'gini',\n",
    "                 max_features = 'sqrt',\n",
    "                 min_samples_leaf = 10,\n",
    "                 random_state = 33\n",
    "                 )"
   ]
  },
  {
   "cell_type": "code",
   "execution_count": 13,
   "id": "bc41ab6f",
   "metadata": {},
   "outputs": [
    {
     "name": "stdout",
     "output_type": "stream",
     "text": [
      "0.7467532467532467\n",
      "AxesSubplot(0.125,0.125;0.62x0.755)\n",
      "              precision    recall  f1-score   support\n",
      "\n",
      "           0       0.75      0.92      0.82        99\n",
      "           1       0.75      0.44      0.55        55\n",
      "\n",
      "    accuracy                           0.75       154\n",
      "   macro avg       0.75      0.68      0.69       154\n",
      "weighted avg       0.75      0.75      0.73       154\n",
      "\n"
     ]
    },
    {
     "data": {
      "image/png": "[encoded data removed]",
      "text/plain": [
       "<Figure size 432x288 with 2 Axes>"
      ]
     },
     "metadata": {
      "needs_background": "light"
     },
     "output_type": "display_data"
    }
   ],
   "source": [
    "print(rf.score(x_test, y_test))\n",
    "print(sns.heatmap(confusion_matrix(y_test, y_pred), annot=True))\n",
    "print(classification_report(y_test, y_pred))"
   ]
  },
  {
   "cell_type": "markdown",
   "id": "02105f57",
   "metadata": {},
   "source": [
    "## 2. RandomizedSearchCV\n",
    "Always use RandomizedsearchCV before GridSearchCV because RandomizedSearchCV will randomly select the parameters and check wheather they give better results or not; It just narrow down the parameters and then we can use GridSearchCV which thoroughly make and analyze each Permutation and combination and give results.\n",
    "\n",
    "### Parameters in RandomizedSearchcv()\n",
    "------------------------------------------------------\n",
    "1. **`estimator`** = name of model forwhich we perform tuning.\n",
    "2. **`param_distributions`** = dictionary of parameters as key and list of respective parameters as value is given from which best values of parameters are found.\n",
    "\n",
    "3. **`n_iter`** - No. of iteratons randomizedSearchCV should perform so that best parametrs are obatined from those n number of Permutations and combinations. As RandomizedSearchCV does not perform thorough search with every possible Permutation, it only perform given no. of iteraions and pickup values randomly.\n",
    "\n",
    "4. **`cv`** - Number of cross validation are the number of times train test split taken place sequentially.\n",
    "\n",
    "5. **`verbose`**- It gives the displayed logs.\n",
    "\n",
    "6. **`random_state`** - seed for randomising and creating the same permutations and combinations again.\n",
    "\n",
    "7. **`n_jobs`** - How many cores of machine to use for calculations. (-1 implies maximum cores) \n",
    "\n",
    "\n",
    "**No of fits = (cv)(n_iter)**\n"
   ]
  },
  {
   "cell_type": "code",
   "execution_count": 14,
   "id": "b0c74846",
   "metadata": {},
   "outputs": [
    {
     "name": "stdout",
     "output_type": "stream",
     "text": [
      "{'n_estimators': [200, 400, 600, 800, 1000], 'max_features': ['auto', 'sqrt', 'log2'], 'max_depth': [10, 25, 41, 56, 72, 87, 103, 118, 134, 150], 'min_samples_split': [2, 5, 10, 14], 'min_samples_leaf': [1, 2, 4, 6, 8], 'criterion': ['entropy', 'gini']}\n"
     ]
    }
   ],
   "source": [
    "from sklearn.model_selection import RandomizedSearchCV\n",
    "\n",
    "# Number of trees in random forest\n",
    "n_estimators = [int(x) for x in np.linspace(start = 200, stop = 1000, num = 5)]\n",
    "\n",
    "# Number of features to consider at every split\n",
    "max_features = ['auto', 'sqrt','log2']\n",
    "\n",
    "# Maximum number of levels in tree\n",
    "max_depth = [int(x) for x in np.linspace(10, 150,10)]\n",
    "\n",
    "# Minimum number of samples required to split a node\n",
    "min_samples_split = [2, 5, 10,14]\n",
    "\n",
    "# Minimum number of samples required at each leaf node\n",
    "min_samples_leaf = [1, 2, 4,6,8]\n",
    "\n",
    "params = { 'n_estimators': n_estimators,\n",
    "           'max_features': max_features,\n",
    "           'max_depth': max_depth,\n",
    "           'min_samples_split': min_samples_split,\n",
    "           'min_samples_leaf': min_samples_leaf,\n",
    "           'criterion':['entropy','gini']}\n",
    "print(params)"
   ]
  },
  {
   "cell_type": "code",
   "execution_count": 15,
   "id": "a0901300",
   "metadata": {},
   "outputs": [
    {
     "name": "stdout",
     "output_type": "stream",
     "text": [
      "Fitting 2 folds for each of 100 candidates, totalling 200 fits\n",
      "[CV] END criterion=gini, max_depth=134, max_features=sqrt, min_samples_leaf=8, min_samples_split=10, n_estimators=1000; total time=   1.4s\n",
      "[CV] END criterion=gini, max_depth=134, max_features=sqrt, min_samples_leaf=8, min_samples_split=10, n_estimators=1000; total time=   1.5s\n",
      "[CV] END criterion=gini, max_depth=134, max_features=sqrt, min_samples_leaf=6, min_samples_split=2, n_estimators=200; total time=   0.2s\n",
      "[CV] END criterion=gini, max_depth=134, max_features=sqrt, min_samples_leaf=6, min_samples_split=2, n_estimators=200; total time=   0.2s\n",
      "[CV] END criterion=gini, max_depth=87, max_features=sqrt, min_samples_leaf=1, min_samples_split=2, n_estimators=200; total time=   0.2s\n",
      "[CV] END criterion=gini, max_depth=87, max_features=sqrt, min_samples_leaf=1, min_samples_split=2, n_estimators=200; total time=   0.2s\n",
      "[CV] END criterion=entropy, max_depth=10, max_features=auto, min_samples_leaf=4, min_samples_split=2, n_estimators=400; total time=   0.6s\n",
      "[CV] END criterion=entropy, max_depth=10, max_features=auto, min_samples_leaf=4, min_samples_split=2, n_estimators=400; total time=   0.6s\n",
      "[CV] END criterion=entropy, max_depth=87, max_features=sqrt, min_samples_leaf=2, min_samples_split=2, n_estimators=200; total time=   0.2s\n",
      "[CV] END criterion=entropy, max_depth=87, max_features=sqrt, min_samples_leaf=2, min_samples_split=2, n_estimators=200; total time=   0.3s\n",
      "[CV] END criterion=entropy, max_depth=150, max_features=log2, min_samples_leaf=4, min_samples_split=10, n_estimators=400; total time=   0.6s\n",
      "[CV] END criterion=entropy, max_depth=150, max_features=log2, min_samples_leaf=4, min_samples_split=10, n_estimators=400; total time=   0.6s\n",
      "[CV] END criterion=entropy, max_depth=150, max_features=sqrt, min_samples_leaf=6, min_samples_split=5, n_estimators=1000; total time=   1.5s\n",
      "[CV] END criterion=entropy, max_depth=150, max_features=sqrt, min_samples_leaf=6, min_samples_split=5, n_estimators=1000; total time=   1.5s\n",
      "[CV] END criterion=gini, max_depth=72, max_features=auto, min_samples_leaf=8, min_samples_split=10, n_estimators=200; total time=   0.2s\n",
      "[CV] END criterion=gini, max_depth=72, max_features=auto, min_samples_leaf=8, min_samples_split=10, n_estimators=200; total time=   0.2s\n",
      "[CV] END criterion=entropy, max_depth=87, max_features=log2, min_samples_leaf=1, min_samples_split=14, n_estimators=800; total time=   1.3s\n",
      "[CV] END criterion=entropy, max_depth=87, max_features=log2, min_samples_leaf=1, min_samples_split=14, n_estimators=800; total time=   1.3s\n",
      "[CV] END criterion=gini, max_depth=103, max_features=auto, min_samples_leaf=4, min_samples_split=5, n_estimators=400; total time=   0.5s\n",
      "[CV] END criterion=gini, max_depth=103, max_features=auto, min_samples_leaf=4, min_samples_split=5, n_estimators=400; total time=   0.5s\n",
      "[CV] END criterion=entropy, max_depth=72, max_features=log2, min_samples_leaf=8, min_samples_split=5, n_estimators=600; total time=   0.9s\n",
      "[CV] END criterion=entropy, max_depth=72, max_features=log2, min_samples_leaf=8, min_samples_split=5, n_estimators=600; total time=   0.9s\n",
      "[CV] END criterion=gini, max_depth=150, max_features=log2, min_samples_leaf=4, min_samples_split=2, n_estimators=200; total time=   0.2s\n",
      "[CV] END criterion=gini, max_depth=150, max_features=log2, min_samples_leaf=4, min_samples_split=2, n_estimators=200; total time=   0.2s\n",
      "[CV] END criterion=gini, max_depth=41, max_features=auto, min_samples_leaf=8, min_samples_split=14, n_estimators=800; total time=   1.1s\n",
      "[CV] END criterion=gini, max_depth=41, max_features=auto, min_samples_leaf=8, min_samples_split=14, n_estimators=800; total time=   1.1s\n",
      "[CV] END criterion=gini, max_depth=150, max_features=auto, min_samples_leaf=1, min_samples_split=2, n_estimators=800; total time=   1.1s\n",
      "[CV] END criterion=gini, max_depth=150, max_features=auto, min_samples_leaf=1, min_samples_split=2, n_estimators=800; total time=   1.2s\n",
      "[CV] END criterion=entropy, max_depth=150, max_features=auto, min_samples_leaf=1, min_samples_split=14, n_estimators=1000; total time=   1.5s\n",
      "[CV] END criterion=entropy, max_depth=150, max_features=auto, min_samples_leaf=1, min_samples_split=14, n_estimators=1000; total time=   1.6s\n",
      "[CV] END criterion=gini, max_depth=118, max_features=log2, min_samples_leaf=8, min_samples_split=2, n_estimators=800; total time=   2.0s\n",
      "[CV] END criterion=gini, max_depth=118, max_features=log2, min_samples_leaf=8, min_samples_split=2, n_estimators=800; total time=   1.5s\n",
      "[CV] END criterion=entropy, max_depth=103, max_features=auto, min_samples_leaf=6, min_samples_split=5, n_estimators=800; total time=   1.2s\n",
      "[CV] END criterion=entropy, max_depth=103, max_features=auto, min_samples_leaf=6, min_samples_split=5, n_estimators=800; total time=   1.4s\n",
      "[CV] END criterion=gini, max_depth=118, max_features=log2, min_samples_leaf=6, min_samples_split=5, n_estimators=400; total time=   0.5s\n",
      "[CV] END criterion=gini, max_depth=118, max_features=log2, min_samples_leaf=6, min_samples_split=5, n_estimators=400; total time=   0.6s\n",
      "[CV] END criterion=entropy, max_depth=10, max_features=sqrt, min_samples_leaf=1, min_samples_split=5, n_estimators=1000; total time=   1.6s\n",
      "[CV] END criterion=entropy, max_depth=10, max_features=sqrt, min_samples_leaf=1, min_samples_split=5, n_estimators=1000; total time=   1.6s\n",
      "[CV] END criterion=entropy, max_depth=150, max_features=log2, min_samples_leaf=6, min_samples_split=2, n_estimators=1000; total time=   1.6s\n",
      "[CV] END criterion=entropy, max_depth=150, max_features=log2, min_samples_leaf=6, min_samples_split=2, n_estimators=1000; total time=   1.7s\n",
      "[CV] END criterion=entropy, max_depth=56, max_features=log2, min_samples_leaf=8, min_samples_split=5, n_estimators=600; total time=   0.9s\n",
      "[CV] END criterion=entropy, max_depth=56, max_features=log2, min_samples_leaf=8, min_samples_split=5, n_estimators=600; total time=   1.0s\n",
      "[CV] END criterion=gini, max_depth=118, max_features=sqrt, min_samples_leaf=1, min_samples_split=5, n_estimators=600; total time=   1.0s\n",
      "[CV] END criterion=gini, max_depth=118, max_features=sqrt, min_samples_leaf=1, min_samples_split=5, n_estimators=600; total time=   1.1s\n",
      "[CV] END criterion=gini, max_depth=118, max_features=sqrt, min_samples_leaf=8, min_samples_split=14, n_estimators=200; total time=   0.3s\n",
      "[CV] END criterion=gini, max_depth=118, max_features=sqrt, min_samples_leaf=8, min_samples_split=14, n_estimators=200; total time=   0.2s\n",
      "[CV] END criterion=entropy, max_depth=118, max_features=log2, min_samples_leaf=4, min_samples_split=2, n_estimators=800; total time=   1.3s\n",
      "[CV] END criterion=entropy, max_depth=118, max_features=log2, min_samples_leaf=4, min_samples_split=2, n_estimators=800; total time=   1.2s\n",
      "[CV] END criterion=gini, max_depth=10, max_features=auto, min_samples_leaf=4, min_samples_split=2, n_estimators=800; total time=   1.1s\n",
      "[CV] END criterion=gini, max_depth=10, max_features=auto, min_samples_leaf=4, min_samples_split=2, n_estimators=800; total time=   1.1s\n",
      "[CV] END criterion=gini, max_depth=87, max_features=auto, min_samples_leaf=4, min_samples_split=14, n_estimators=400; total time=   0.5s\n",
      "[CV] END criterion=gini, max_depth=87, max_features=auto, min_samples_leaf=4, min_samples_split=14, n_estimators=400; total time=   0.5s\n",
      "[CV] END criterion=gini, max_depth=103, max_features=auto, min_samples_leaf=6, min_samples_split=2, n_estimators=1000; total time=   1.4s\n",
      "[CV] END criterion=gini, max_depth=103, max_features=auto, min_samples_leaf=6, min_samples_split=2, n_estimators=1000; total time=   1.4s\n",
      "[CV] END criterion=gini, max_depth=87, max_features=auto, min_samples_leaf=2, min_samples_split=2, n_estimators=200; total time=   0.2s\n",
      "[CV] END criterion=gini, max_depth=87, max_features=auto, min_samples_leaf=2, min_samples_split=2, n_estimators=200; total time=   0.2s\n",
      "[CV] END criterion=entropy, max_depth=41, max_features=sqrt, min_samples_leaf=6, min_samples_split=10, n_estimators=200; total time=   0.2s\n",
      "[CV] END criterion=entropy, max_depth=41, max_features=sqrt, min_samples_leaf=6, min_samples_split=10, n_estimators=200; total time=   0.2s\n",
      "[CV] END criterion=gini, max_depth=103, max_features=sqrt, min_samples_leaf=4, min_samples_split=10, n_estimators=200; total time=   0.2s\n"
     ]
    },
    {
     "name": "stdout",
     "output_type": "stream",
     "text": [
      "[CV] END criterion=gini, max_depth=103, max_features=sqrt, min_samples_leaf=4, min_samples_split=10, n_estimators=200; total time=   0.2s\n",
      "[CV] END criterion=gini, max_depth=118, max_features=log2, min_samples_leaf=1, min_samples_split=14, n_estimators=1000; total time=   1.5s\n",
      "[CV] END criterion=gini, max_depth=118, max_features=log2, min_samples_leaf=1, min_samples_split=14, n_estimators=1000; total time=   1.5s\n",
      "[CV] END criterion=entropy, max_depth=118, max_features=sqrt, min_samples_leaf=6, min_samples_split=10, n_estimators=200; total time=   0.2s\n",
      "[CV] END criterion=entropy, max_depth=118, max_features=sqrt, min_samples_leaf=6, min_samples_split=10, n_estimators=200; total time=   0.2s\n",
      "[CV] END criterion=entropy, max_depth=41, max_features=auto, min_samples_leaf=2, min_samples_split=5, n_estimators=1000; total time=   1.5s\n",
      "[CV] END criterion=entropy, max_depth=41, max_features=auto, min_samples_leaf=2, min_samples_split=5, n_estimators=1000; total time=   1.5s\n",
      "[CV] END criterion=gini, max_depth=118, max_features=log2, min_samples_leaf=8, min_samples_split=14, n_estimators=200; total time=   0.3s\n",
      "[CV] END criterion=gini, max_depth=118, max_features=log2, min_samples_leaf=8, min_samples_split=14, n_estimators=200; total time=   0.2s\n",
      "[CV] END criterion=entropy, max_depth=25, max_features=auto, min_samples_leaf=6, min_samples_split=10, n_estimators=800; total time=   1.2s\n",
      "[CV] END criterion=entropy, max_depth=25, max_features=auto, min_samples_leaf=6, min_samples_split=10, n_estimators=800; total time=   1.2s\n",
      "[CV] END criterion=gini, max_depth=118, max_features=auto, min_samples_leaf=2, min_samples_split=5, n_estimators=1000; total time=   1.6s\n",
      "[CV] END criterion=gini, max_depth=118, max_features=auto, min_samples_leaf=2, min_samples_split=5, n_estimators=1000; total time=   1.6s\n",
      "[CV] END criterion=entropy, max_depth=134, max_features=log2, min_samples_leaf=1, min_samples_split=10, n_estimators=1000; total time=   1.7s\n",
      "[CV] END criterion=entropy, max_depth=134, max_features=log2, min_samples_leaf=1, min_samples_split=10, n_estimators=1000; total time=   1.8s\n",
      "[CV] END criterion=entropy, max_depth=72, max_features=log2, min_samples_leaf=2, min_samples_split=2, n_estimators=1000; total time=   1.8s\n",
      "[CV] END criterion=entropy, max_depth=72, max_features=log2, min_samples_leaf=2, min_samples_split=2, n_estimators=1000; total time=   2.0s\n",
      "[CV] END criterion=gini, max_depth=134, max_features=log2, min_samples_leaf=1, min_samples_split=5, n_estimators=200; total time=   0.3s\n",
      "[CV] END criterion=gini, max_depth=134, max_features=log2, min_samples_leaf=1, min_samples_split=5, n_estimators=200; total time=   0.2s\n",
      "[CV] END criterion=entropy, max_depth=25, max_features=log2, min_samples_leaf=4, min_samples_split=10, n_estimators=1000; total time=   1.7s\n",
      "[CV] END criterion=entropy, max_depth=25, max_features=log2, min_samples_leaf=4, min_samples_split=10, n_estimators=1000; total time=   1.7s\n",
      "[CV] END criterion=gini, max_depth=87, max_features=auto, min_samples_leaf=6, min_samples_split=2, n_estimators=600; total time=   0.9s\n",
      "[CV] END criterion=gini, max_depth=87, max_features=auto, min_samples_leaf=6, min_samples_split=2, n_estimators=600; total time=   0.8s\n",
      "[CV] END criterion=entropy, max_depth=25, max_features=auto, min_samples_leaf=2, min_samples_split=5, n_estimators=600; total time=   0.9s\n",
      "[CV] END criterion=entropy, max_depth=25, max_features=auto, min_samples_leaf=2, min_samples_split=5, n_estimators=600; total time=   0.9s\n",
      "[CV] END criterion=entropy, max_depth=134, max_features=log2, min_samples_leaf=4, min_samples_split=14, n_estimators=400; total time=   0.6s\n",
      "[CV] END criterion=entropy, max_depth=134, max_features=log2, min_samples_leaf=4, min_samples_split=14, n_estimators=400; total time=   0.6s\n",
      "[CV] END criterion=entropy, max_depth=10, max_features=auto, min_samples_leaf=4, min_samples_split=5, n_estimators=1000; total time=   1.5s\n",
      "[CV] END criterion=entropy, max_depth=10, max_features=auto, min_samples_leaf=4, min_samples_split=5, n_estimators=1000; total time=   1.5s\n",
      "[CV] END criterion=gini, max_depth=72, max_features=log2, min_samples_leaf=6, min_samples_split=2, n_estimators=1000; total time=   1.6s\n",
      "[CV] END criterion=gini, max_depth=72, max_features=log2, min_samples_leaf=6, min_samples_split=2, n_estimators=1000; total time=   2.0s\n",
      "[CV] END criterion=gini, max_depth=41, max_features=log2, min_samples_leaf=4, min_samples_split=14, n_estimators=800; total time=   1.3s\n",
      "[CV] END criterion=gini, max_depth=41, max_features=log2, min_samples_leaf=4, min_samples_split=14, n_estimators=800; total time=   1.3s\n",
      "[CV] END criterion=entropy, max_depth=56, max_features=auto, min_samples_leaf=2, min_samples_split=2, n_estimators=400; total time=   0.6s\n",
      "[CV] END criterion=entropy, max_depth=56, max_features=auto, min_samples_leaf=2, min_samples_split=2, n_estimators=400; total time=   0.8s\n",
      "[CV] END criterion=entropy, max_depth=41, max_features=sqrt, min_samples_leaf=6, min_samples_split=5, n_estimators=400; total time=   0.5s\n",
      "[CV] END criterion=entropy, max_depth=41, max_features=sqrt, min_samples_leaf=6, min_samples_split=5, n_estimators=400; total time=   0.5s\n",
      "[CV] END criterion=gini, max_depth=56, max_features=sqrt, min_samples_leaf=4, min_samples_split=2, n_estimators=1000; total time=   1.5s\n",
      "[CV] END criterion=gini, max_depth=56, max_features=sqrt, min_samples_leaf=4, min_samples_split=2, n_estimators=1000; total time=   1.5s\n",
      "[CV] END criterion=gini, max_depth=25, max_features=sqrt, min_samples_leaf=6, min_samples_split=2, n_estimators=800; total time=   1.1s\n",
      "[CV] END criterion=gini, max_depth=25, max_features=sqrt, min_samples_leaf=6, min_samples_split=2, n_estimators=800; total time=   1.4s\n",
      "[CV] END criterion=gini, max_depth=87, max_features=sqrt, min_samples_leaf=4, min_samples_split=10, n_estimators=400; total time=   0.7s\n",
      "[CV] END criterion=gini, max_depth=87, max_features=sqrt, min_samples_leaf=4, min_samples_split=10, n_estimators=400; total time=   0.9s\n",
      "[CV] END criterion=entropy, max_depth=118, max_features=sqrt, min_samples_leaf=2, min_samples_split=5, n_estimators=600; total time=   1.0s\n",
      "[CV] END criterion=entropy, max_depth=118, max_features=sqrt, min_samples_leaf=2, min_samples_split=5, n_estimators=600; total time=   1.0s\n",
      "[CV] END criterion=entropy, max_depth=41, max_features=log2, min_samples_leaf=8, min_samples_split=5, n_estimators=600; total time=   1.0s\n",
      "[CV] END criterion=entropy, max_depth=41, max_features=log2, min_samples_leaf=8, min_samples_split=5, n_estimators=600; total time=   1.1s\n",
      "[CV] END criterion=entropy, max_depth=118, max_features=sqrt, min_samples_leaf=8, min_samples_split=14, n_estimators=1000; total time=   1.6s\n",
      "[CV] END criterion=entropy, max_depth=118, max_features=sqrt, min_samples_leaf=8, min_samples_split=14, n_estimators=1000; total time=   1.8s\n",
      "[CV] END criterion=gini, max_depth=72, max_features=auto, min_samples_leaf=2, min_samples_split=2, n_estimators=400; total time=   0.6s\n",
      "[CV] END criterion=gini, max_depth=72, max_features=auto, min_samples_leaf=2, min_samples_split=2, n_estimators=400; total time=   0.6s\n",
      "[CV] END criterion=gini, max_depth=118, max_features=auto, min_samples_leaf=6, min_samples_split=10, n_estimators=800; total time=   1.2s\n",
      "[CV] END criterion=gini, max_depth=118, max_features=auto, min_samples_leaf=6, min_samples_split=10, n_estimators=800; total time=   1.2s\n",
      "[CV] END criterion=entropy, max_depth=10, max_features=auto, min_samples_leaf=8, min_samples_split=5, n_estimators=800; total time=   1.2s\n",
      "[CV] END criterion=entropy, max_depth=10, max_features=auto, min_samples_leaf=8, min_samples_split=5, n_estimators=800; total time=   1.4s\n",
      "[CV] END criterion=gini, max_depth=150, max_features=log2, min_samples_leaf=4, min_samples_split=5, n_estimators=200; total time=   0.3s\n",
      "[CV] END criterion=gini, max_depth=150, max_features=log2, min_samples_leaf=4, min_samples_split=5, n_estimators=200; total time=   0.2s\n",
      "[CV] END criterion=entropy, max_depth=134, max_features=auto, min_samples_leaf=4, min_samples_split=2, n_estimators=200; total time=   0.2s\n",
      "[CV] END criterion=entropy, max_depth=134, max_features=auto, min_samples_leaf=4, min_samples_split=2, n_estimators=200; total time=   0.2s\n",
      "[CV] END criterion=gini, max_depth=87, max_features=log2, min_samples_leaf=6, min_samples_split=14, n_estimators=600; total time=   0.9s\n"
     ]
    },
    {
     "name": "stdout",
     "output_type": "stream",
     "text": [
      "[CV] END criterion=gini, max_depth=87, max_features=log2, min_samples_leaf=6, min_samples_split=14, n_estimators=600; total time=   0.9s\n",
      "[CV] END criterion=gini, max_depth=118, max_features=sqrt, min_samples_leaf=1, min_samples_split=14, n_estimators=400; total time=   0.5s\n",
      "[CV] END criterion=gini, max_depth=118, max_features=sqrt, min_samples_leaf=1, min_samples_split=14, n_estimators=400; total time=   0.5s\n",
      "[CV] END criterion=gini, max_depth=10, max_features=auto, min_samples_leaf=4, min_samples_split=2, n_estimators=200; total time=   0.2s\n",
      "[CV] END criterion=gini, max_depth=10, max_features=auto, min_samples_leaf=4, min_samples_split=2, n_estimators=200; total time=   0.2s\n",
      "[CV] END criterion=entropy, max_depth=103, max_features=sqrt, min_samples_leaf=8, min_samples_split=10, n_estimators=800; total time=   1.2s\n",
      "[CV] END criterion=entropy, max_depth=103, max_features=sqrt, min_samples_leaf=8, min_samples_split=10, n_estimators=800; total time=   1.2s\n",
      "[CV] END criterion=entropy, max_depth=134, max_features=sqrt, min_samples_leaf=2, min_samples_split=2, n_estimators=400; total time=   0.6s\n",
      "[CV] END criterion=entropy, max_depth=134, max_features=sqrt, min_samples_leaf=2, min_samples_split=2, n_estimators=400; total time=   0.6s\n",
      "[CV] END criterion=gini, max_depth=118, max_features=auto, min_samples_leaf=6, min_samples_split=5, n_estimators=800; total time=   1.2s\n",
      "[CV] END criterion=gini, max_depth=118, max_features=auto, min_samples_leaf=6, min_samples_split=5, n_estimators=800; total time=   1.2s\n",
      "[CV] END criterion=gini, max_depth=41, max_features=sqrt, min_samples_leaf=6, min_samples_split=5, n_estimators=1000; total time=   1.7s\n",
      "[CV] END criterion=gini, max_depth=41, max_features=sqrt, min_samples_leaf=6, min_samples_split=5, n_estimators=1000; total time=   1.7s\n",
      "[CV] END criterion=entropy, max_depth=10, max_features=sqrt, min_samples_leaf=1, min_samples_split=2, n_estimators=800; total time=   1.6s\n",
      "[CV] END criterion=entropy, max_depth=10, max_features=sqrt, min_samples_leaf=1, min_samples_split=2, n_estimators=800; total time=   1.3s\n",
      "[CV] END criterion=gini, max_depth=103, max_features=log2, min_samples_leaf=8, min_samples_split=10, n_estimators=200; total time=   0.3s\n",
      "[CV] END criterion=gini, max_depth=103, max_features=log2, min_samples_leaf=8, min_samples_split=10, n_estimators=200; total time=   0.2s\n",
      "[CV] END criterion=entropy, max_depth=87, max_features=sqrt, min_samples_leaf=2, min_samples_split=5, n_estimators=200; total time=   0.3s\n",
      "[CV] END criterion=entropy, max_depth=87, max_features=sqrt, min_samples_leaf=2, min_samples_split=5, n_estimators=200; total time=   0.2s\n",
      "[CV] END criterion=gini, max_depth=134, max_features=sqrt, min_samples_leaf=2, min_samples_split=10, n_estimators=800; total time=   1.2s\n",
      "[CV] END criterion=gini, max_depth=134, max_features=sqrt, min_samples_leaf=2, min_samples_split=10, n_estimators=800; total time=   1.2s\n",
      "[CV] END criterion=entropy, max_depth=25, max_features=log2, min_samples_leaf=1, min_samples_split=14, n_estimators=400; total time=   0.6s\n",
      "[CV] END criterion=entropy, max_depth=25, max_features=log2, min_samples_leaf=1, min_samples_split=14, n_estimators=400; total time=   0.6s\n",
      "[CV] END criterion=gini, max_depth=150, max_features=log2, min_samples_leaf=1, min_samples_split=5, n_estimators=800; total time=   1.2s\n",
      "[CV] END criterion=gini, max_depth=150, max_features=log2, min_samples_leaf=1, min_samples_split=5, n_estimators=800; total time=   1.2s\n",
      "[CV] END criterion=gini, max_depth=103, max_features=auto, min_samples_leaf=6, min_samples_split=10, n_estimators=400; total time=   0.5s\n",
      "[CV] END criterion=gini, max_depth=103, max_features=auto, min_samples_leaf=6, min_samples_split=10, n_estimators=400; total time=   0.5s\n",
      "[CV] END criterion=entropy, max_depth=72, max_features=auto, min_samples_leaf=6, min_samples_split=10, n_estimators=600; total time=   0.9s\n",
      "[CV] END criterion=entropy, max_depth=72, max_features=auto, min_samples_leaf=6, min_samples_split=10, n_estimators=600; total time=   0.9s\n",
      "[CV] END criterion=gini, max_depth=41, max_features=auto, min_samples_leaf=8, min_samples_split=5, n_estimators=800; total time=   1.1s\n",
      "[CV] END criterion=gini, max_depth=41, max_features=auto, min_samples_leaf=8, min_samples_split=5, n_estimators=800; total time=   1.1s\n",
      "[CV] END criterion=gini, max_depth=41, max_features=auto, min_samples_leaf=2, min_samples_split=5, n_estimators=600; total time=   0.9s\n",
      "[CV] END criterion=gini, max_depth=41, max_features=auto, min_samples_leaf=2, min_samples_split=5, n_estimators=600; total time=   0.9s\n",
      "[CV] END criterion=gini, max_depth=41, max_features=log2, min_samples_leaf=8, min_samples_split=5, n_estimators=1000; total time=   1.5s\n",
      "[CV] END criterion=gini, max_depth=41, max_features=log2, min_samples_leaf=8, min_samples_split=5, n_estimators=1000; total time=   1.5s\n",
      "[CV] END criterion=entropy, max_depth=10, max_features=log2, min_samples_leaf=2, min_samples_split=14, n_estimators=800; total time=   1.3s\n",
      "[CV] END criterion=entropy, max_depth=10, max_features=log2, min_samples_leaf=2, min_samples_split=14, n_estimators=800; total time=   1.3s\n",
      "[CV] END criterion=entropy, max_depth=150, max_features=auto, min_samples_leaf=6, min_samples_split=10, n_estimators=800; total time=   1.2s\n",
      "[CV] END criterion=entropy, max_depth=150, max_features=auto, min_samples_leaf=6, min_samples_split=10, n_estimators=800; total time=   1.6s\n",
      "[CV] END criterion=gini, max_depth=56, max_features=sqrt, min_samples_leaf=6, min_samples_split=10, n_estimators=1000; total time=   1.8s\n",
      "[CV] END criterion=gini, max_depth=56, max_features=sqrt, min_samples_leaf=6, min_samples_split=10, n_estimators=1000; total time=   1.8s\n",
      "[CV] END criterion=entropy, max_depth=87, max_features=sqrt, min_samples_leaf=6, min_samples_split=2, n_estimators=200; total time=   0.3s\n",
      "[CV] END criterion=entropy, max_depth=87, max_features=sqrt, min_samples_leaf=6, min_samples_split=2, n_estimators=200; total time=   0.3s\n",
      "[CV] END criterion=entropy, max_depth=103, max_features=sqrt, min_samples_leaf=1, min_samples_split=14, n_estimators=800; total time=   1.2s\n",
      "[CV] END criterion=entropy, max_depth=103, max_features=sqrt, min_samples_leaf=1, min_samples_split=14, n_estimators=800; total time=   1.3s\n",
      "[CV] END criterion=gini, max_depth=41, max_features=log2, min_samples_leaf=6, min_samples_split=2, n_estimators=800; total time=   1.2s\n",
      "[CV] END criterion=gini, max_depth=41, max_features=log2, min_samples_leaf=6, min_samples_split=2, n_estimators=800; total time=   1.2s\n",
      "[CV] END criterion=entropy, max_depth=118, max_features=log2, min_samples_leaf=4, min_samples_split=10, n_estimators=800; total time=   1.5s\n",
      "[CV] END criterion=entropy, max_depth=118, max_features=log2, min_samples_leaf=4, min_samples_split=10, n_estimators=800; total time=   1.4s\n",
      "[CV] END criterion=entropy, max_depth=10, max_features=log2, min_samples_leaf=8, min_samples_split=2, n_estimators=1000; total time=   2.1s\n",
      "[CV] END criterion=entropy, max_depth=10, max_features=log2, min_samples_leaf=8, min_samples_split=2, n_estimators=1000; total time=   1.5s\n",
      "[CV] END criterion=gini, max_depth=134, max_features=auto, min_samples_leaf=2, min_samples_split=10, n_estimators=200; total time=   0.2s\n",
      "[CV] END criterion=gini, max_depth=134, max_features=auto, min_samples_leaf=2, min_samples_split=10, n_estimators=200; total time=   0.2s\n",
      "[CV] END criterion=gini, max_depth=87, max_features=auto, min_samples_leaf=6, min_samples_split=14, n_estimators=400; total time=   0.6s\n",
      "[CV] END criterion=gini, max_depth=87, max_features=auto, min_samples_leaf=6, min_samples_split=14, n_estimators=400; total time=   0.5s\n",
      "[CV] END criterion=entropy, max_depth=72, max_features=sqrt, min_samples_leaf=8, min_samples_split=2, n_estimators=200; total time=   0.2s\n",
      "[CV] END criterion=entropy, max_depth=72, max_features=sqrt, min_samples_leaf=8, min_samples_split=2, n_estimators=200; total time=   0.2s\n",
      "[CV] END criterion=gini, max_depth=72, max_features=auto, min_samples_leaf=6, min_samples_split=14, n_estimators=200; total time=   0.2s\n",
      "[CV] END criterion=gini, max_depth=72, max_features=auto, min_samples_leaf=6, min_samples_split=14, n_estimators=200; total time=   0.2s\n",
      "[CV] END criterion=gini, max_depth=41, max_features=log2, min_samples_leaf=4, min_samples_split=10, n_estimators=600; total time=   0.9s\n"
     ]
    },
    {
     "name": "stdout",
     "output_type": "stream",
     "text": [
      "[CV] END criterion=gini, max_depth=41, max_features=log2, min_samples_leaf=4, min_samples_split=10, n_estimators=600; total time=   0.9s\n",
      "[CV] END criterion=entropy, max_depth=41, max_features=log2, min_samples_leaf=6, min_samples_split=5, n_estimators=600; total time=   1.1s\n",
      "[CV] END criterion=entropy, max_depth=41, max_features=log2, min_samples_leaf=6, min_samples_split=5, n_estimators=600; total time=   1.1s\n",
      "[CV] END criterion=gini, max_depth=72, max_features=auto, min_samples_leaf=6, min_samples_split=10, n_estimators=800; total time=   1.1s\n",
      "[CV] END criterion=gini, max_depth=72, max_features=auto, min_samples_leaf=6, min_samples_split=10, n_estimators=800; total time=   1.1s\n",
      "[CV] END criterion=entropy, max_depth=10, max_features=auto, min_samples_leaf=1, min_samples_split=10, n_estimators=400; total time=   0.6s\n",
      "[CV] END criterion=entropy, max_depth=10, max_features=auto, min_samples_leaf=1, min_samples_split=10, n_estimators=400; total time=   0.5s\n",
      "[CV] END criterion=gini, max_depth=150, max_features=sqrt, min_samples_leaf=1, min_samples_split=2, n_estimators=800; total time=   1.2s\n",
      "[CV] END criterion=gini, max_depth=150, max_features=sqrt, min_samples_leaf=1, min_samples_split=2, n_estimators=800; total time=   1.2s\n",
      "[CV] END criterion=entropy, max_depth=25, max_features=sqrt, min_samples_leaf=6, min_samples_split=14, n_estimators=400; total time=   0.5s\n",
      "[CV] END criterion=entropy, max_depth=25, max_features=sqrt, min_samples_leaf=6, min_samples_split=14, n_estimators=400; total time=   0.5s\n",
      "[CV] END criterion=entropy, max_depth=72, max_features=log2, min_samples_leaf=6, min_samples_split=2, n_estimators=600; total time=   0.9s\n",
      "[CV] END criterion=entropy, max_depth=72, max_features=log2, min_samples_leaf=6, min_samples_split=2, n_estimators=600; total time=   0.9s\n",
      "[CV] END criterion=entropy, max_depth=10, max_features=auto, min_samples_leaf=4, min_samples_split=10, n_estimators=400; total time=   0.6s\n",
      "[CV] END criterion=entropy, max_depth=10, max_features=auto, min_samples_leaf=4, min_samples_split=10, n_estimators=400; total time=   0.5s\n",
      "[CV] END criterion=entropy, max_depth=118, max_features=sqrt, min_samples_leaf=1, min_samples_split=14, n_estimators=800; total time=   1.3s\n",
      "[CV] END criterion=entropy, max_depth=118, max_features=sqrt, min_samples_leaf=1, min_samples_split=14, n_estimators=800; total time=   1.2s\n",
      "[CV] END criterion=entropy, max_depth=118, max_features=sqrt, min_samples_leaf=2, min_samples_split=10, n_estimators=400; total time=   0.6s\n",
      "[CV] END criterion=entropy, max_depth=118, max_features=sqrt, min_samples_leaf=2, min_samples_split=10, n_estimators=400; total time=   0.6s\n",
      "[CV] END criterion=gini, max_depth=25, max_features=log2, min_samples_leaf=6, min_samples_split=2, n_estimators=1000; total time=   1.5s\n",
      "[CV] END criterion=gini, max_depth=25, max_features=log2, min_samples_leaf=6, min_samples_split=2, n_estimators=1000; total time=   1.8s\n"
     ]
    },
    {
     "data": {
      "text/plain": [
       "RandomizedSearchCV(cv=2, estimator=RandomForestClassifier(n_estimators=10),\n",
       "                   n_iter=100,\n",
       "                   param_distributions={'criterion': ['entropy', 'gini'],\n",
       "                                        'max_depth': [10, 25, 41, 56, 72, 87,\n",
       "                                                      103, 118, 134, 150],\n",
       "                                        'max_features': ['auto', 'sqrt',\n",
       "                                                         'log2'],\n",
       "                                        'min_samples_leaf': [1, 2, 4, 6, 8],\n",
       "                                        'min_samples_split': [2, 5, 10, 14],\n",
       "                                        'n_estimators': [200, 400, 600, 800,\n",
       "                                                         1000]},\n",
       "                   verbose=2)"
      ]
     },
     "execution_count": 15,
     "metadata": {},
     "output_type": "execute_result"
    }
   ],
   "source": [
    "rf_randomcv = RandomizedSearchCV(estimator=rf, param_distributions=params, n_iter=100, cv=2, verbose=2, refit=True)\n",
    "\n",
    "rf_randomcv.fit(x_train, y_train)"
   ]
  },
  {
   "cell_type": "code",
   "execution_count": 16,
   "id": "ff1ba544",
   "metadata": {},
   "outputs": [
    {
     "data": {
      "text/plain": [
       "{'n_estimators': 400,\n",
       " 'min_samples_split': 14,\n",
       " 'min_samples_leaf': 4,\n",
       " 'max_features': 'log2',\n",
       " 'max_depth': 134,\n",
       " 'criterion': 'entropy'}"
      ]
     },
     "execution_count": 16,
     "metadata": {},
     "output_type": "execute_result"
    }
   ],
   "source": [
    "rf_randomcv.best_params_"
   ]
  },
  {
   "cell_type": "code",
   "execution_count": 18,
   "id": "dc3dda77",
   "metadata": {},
   "outputs": [],
   "source": [
    "y_pred = rf_randomcv.predict(x_test)"
   ]
  },
  {
   "cell_type": "markdown",
   "id": "51a18ede",
   "metadata": {},
   "source": [
    "## Evaluation of RandomSearchCV"
   ]
  },
  {
   "cell_type": "code",
   "execution_count": 19,
   "id": "f58755f5",
   "metadata": {},
   "outputs": [
    {
     "data": {
      "text/plain": [
       "0.7597402597402597"
      ]
     },
     "execution_count": 19,
     "metadata": {},
     "output_type": "execute_result"
    }
   ],
   "source": [
    "rf_randomcv.score(x_test, y_test)"
   ]
  },
  {
   "cell_type": "code",
   "execution_count": 20,
   "id": "81a248f5",
   "metadata": {},
   "outputs": [
    {
     "data": {
      "text/plain": [
       "array([[85, 14],\n",
       "       [23, 32]], dtype=int64)"
      ]
     },
     "execution_count": 20,
     "metadata": {},
     "output_type": "execute_result"
    }
   ],
   "source": [
    "confusion_matrix(y_test, y_pred)"
   ]
  },
  {
   "cell_type": "code",
   "execution_count": 22,
   "id": "9149c6f2",
   "metadata": {},
   "outputs": [
    {
     "name": "stdout",
     "output_type": "stream",
     "text": [
      "              precision    recall  f1-score   support\n",
      "\n",
      "           0       0.79      0.86      0.82        99\n",
      "           1       0.70      0.58      0.63        55\n",
      "\n",
      "    accuracy                           0.76       154\n",
      "   macro avg       0.74      0.72      0.73       154\n",
      "weighted avg       0.75      0.76      0.75       154\n",
      "\n"
     ]
    }
   ],
   "source": [
    "cf = classification_report(y_test, y_pred)\n",
    "print(cf)"
   ]
  },
  {
   "cell_type": "markdown",
   "id": "f621264b",
   "metadata": {},
   "source": [
    "## 3. GridSearchCV \n",
    "\n",
    "- RandomSearchCV gives the best values by randomly selecting the parameters, so we Search the parameters throughly using GridSearchCV.\n",
    "\n",
    "- The List of paramters is given which areclose to the best parameters obtained from RandomSearchCV \n",
    "\n",
    "- We don't have number of iteration parameter in GridSearchcv as it Thoroughly checks all th possible permutations and combinations.\n",
    "\n",
    "- **`param_distributions`** is replaced with **`param_grid`**\n",
    "\n",
    "### Parameters in GridSearchcv()\n",
    "------------------------------------------------------\n",
    "1. **`estimator`** = name of model forwhich we perform tuning.\n",
    "\n",
    "2. **`param_grid`** = dictionary of parameters as key and list of respective parameters as value is given from which best values of parameters are found.\n",
    "\n",
    "\n",
    "4. **`cv`** - Number of cross validation are the number of times train test split taken place sequentially.\n",
    "\n",
    "5. **`verbose`**- It gives the displayed logs.\n",
    "\n",
    "6. **`random_state`** - seed for randomising and creating the same permutations and combinations again.\n",
    "\n",
    "7. **`n_jobs`** - How many cores of machine to use for calculations. (-1 implies maximum cores) \n",
    "\n",
    "\n",
    "**No of fits = (Summation of Number of Elements in every parameters list)* CV**\n"
   ]
  },
  {
   "cell_type": "code",
   "execution_count": 23,
   "id": "986c7aa9",
   "metadata": {},
   "outputs": [
    {
     "name": "stdout",
     "output_type": "stream",
     "text": [
      "{'criterion': ['entropy'], 'max_depth': [134], 'max_features': ['log2'], 'min_samples_leaf': [4, 6, 8], 'min_samples_split': [12, 13, 14, 15, 16], 'n_estimators': [200, 300, 400, 500, 600]}\n"
     ]
    }
   ],
   "source": [
    "from sklearn.model_selection import GridSearchCV\n",
    "\n",
    "para = rf_randomcv.best_params_\n",
    "\n",
    "param_grid = {\n",
    "    'criterion': [para['criterion']],\n",
    "    \n",
    "    'max_depth': [para['max_depth']],\n",
    "    \n",
    "    'max_features': [para['max_features']],\n",
    "    \n",
    "    'min_samples_leaf': [para['min_samples_leaf'], \n",
    "                         para['min_samples_leaf']+2, \n",
    "                         para['min_samples_leaf'] + 4],\n",
    "    \n",
    "    'min_samples_split': [para['min_samples_split'] - 2,\n",
    "                          para['min_samples_split'] - 1,\n",
    "                          para['min_samples_split'], \n",
    "                          para['min_samples_split'] +1,\n",
    "                          para['min_samples_split'] + 2],\n",
    "    \n",
    "    'n_estimators': [para['n_estimators'] - 200,\n",
    "                     para['n_estimators'] - 100, \n",
    "                     para['n_estimators'], \n",
    "                     para['n_estimators'] + 100, \n",
    "                     para['n_estimators'] + 200]\n",
    "}\n",
    "print(param_grid)"
   ]
  },
  {
   "cell_type": "code",
   "execution_count": 24,
   "id": "c2ea1da2",
   "metadata": {},
   "outputs": [
    {
     "name": "stdout",
     "output_type": "stream",
     "text": [
      "Fitting 10 folds for each of 75 candidates, totalling 750 fits\n"
     ]
    },
    {
     "data": {
      "text/plain": [
       "GridSearchCV(cv=10, estimator=RandomForestClassifier(), n_jobs=-1,\n",
       "             param_grid={'criterion': ['entropy'], 'max_depth': [134],\n",
       "                         'max_features': ['log2'],\n",
       "                         'min_samples_leaf': [4, 6, 8],\n",
       "                         'min_samples_split': [12, 13, 14, 15, 16],\n",
       "                         'n_estimators': [200, 300, 400, 500, 600]},\n",
       "             verbose=2)"
      ]
     },
     "execution_count": 24,
     "metadata": {},
     "output_type": "execute_result"
    }
   ],
   "source": [
    "rf = RandomForestClassifier()\n",
    "\n",
    "rf_gridcv = GridSearchCV(estimator = rf, param_grid= param_grid, cv=10, n_jobs=-1, verbose=2, refit=True)\n",
    "\n",
    "rf_gridcv.fit(x_train, y_train)"
   ]
  },
  {
   "cell_type": "code",
   "execution_count": 26,
   "id": "f2f03d15",
   "metadata": {},
   "outputs": [],
   "source": [
    "y_pred = rf_gridcv.predict(x_test)"
   ]
  },
  {
   "cell_type": "code",
   "execution_count": 27,
   "id": "0419750e",
   "metadata": {},
   "outputs": [
    {
     "data": {
      "text/plain": [
       "{'criterion': 'entropy',\n",
       " 'max_depth': 134,\n",
       " 'max_features': 'log2',\n",
       " 'min_samples_leaf': 8,\n",
       " 'min_samples_split': 15,\n",
       " 'n_estimators': 600}"
      ]
     },
     "execution_count": 27,
     "metadata": {},
     "output_type": "execute_result"
    }
   ],
   "source": [
    "rf_gridcv.best_params_"
   ]
  },
  {
   "cell_type": "markdown",
   "id": "d07ba121",
   "metadata": {},
   "source": [
    "## Evaluation of GridSearchCV Model"
   ]
  },
  {
   "cell_type": "code",
   "execution_count": 28,
   "id": "1eb106b0",
   "metadata": {},
   "outputs": [
    {
     "data": {
      "text/plain": [
       "0.8745928338762216"
      ]
     },
     "execution_count": 28,
     "metadata": {},
     "output_type": "execute_result"
    }
   ],
   "source": [
    "rf_gridcv.score(x_train, y_train)"
   ]
  },
  {
   "cell_type": "code",
   "execution_count": 29,
   "id": "3cc1d8f8",
   "metadata": {},
   "outputs": [
    {
     "data": {
      "text/plain": [
       "array([[87, 12],\n",
       "       [26, 29]], dtype=int64)"
      ]
     },
     "execution_count": 29,
     "metadata": {},
     "output_type": "execute_result"
    }
   ],
   "source": [
    "confusion_matrix(y_test, y_pred)"
   ]
  },
  {
   "cell_type": "code",
   "execution_count": 31,
   "id": "e48f7e5a",
   "metadata": {},
   "outputs": [
    {
     "name": "stdout",
     "output_type": "stream",
     "text": [
      "              precision    recall  f1-score   support\n",
      "\n",
      "           0       0.77      0.88      0.82        99\n",
      "           1       0.71      0.53      0.60        55\n",
      "\n",
      "    accuracy                           0.75       154\n",
      "   macro avg       0.74      0.70      0.71       154\n",
      "weighted avg       0.75      0.75      0.74       154\n",
      "\n"
     ]
    }
   ],
   "source": [
    "cf = classification_report(y_test, y_pred)\n",
    "print(cf)"
   ]
  },
  {
   "cell_type": "markdown",
   "id": "5be60813",
   "metadata": {},
   "source": [
    "# 3. Auto-Hyperparameters Tuning\n",
    "\n",
    "Automated Hyperparameter Tuning can be done by using techniques such as \n",
    "- 1. Bayesian Optimization\n",
    "- 2. Gradient Descent\n",
    "- 3. Evolutionary Algorithms\n",
    "\n",
    "Bayesian Optimisation\n",
    "--------------------------------\n",
    "#### 1. Bayesian Optimization\n",
    "Bayesian optimization uses probability to find the minimum of a function. The final aim is to find the input value to a function which can gives us the lowest possible output value.It usually performs better than random,grid and manual search providing better performance in the testing phase and reduced optimization time.\n",
    "In Hyperopt, Bayesian Optimization can be implemented giving 3 three main parameters to the function fmin.\n",
    "\n",
    "- Objective Function = defines the loss function to minimize.\n",
    "- Domain Space = defines the range of input values to test (in Bayesian Optimization this space creates a probability distribution for each of the used Hyperparameters).\n",
    "- Optimization Algorithm = defines the search algorithm to use to select the best input values to use in each new iteration.\n"
   ]
  },
  {
   "cell_type": "code",
   "execution_count": 32,
   "id": "0fecfdc2",
   "metadata": {},
   "outputs": [],
   "source": [
    "from hyperopt import hp, fmin, tpe, STATUS_OK, Trials"
   ]
  },
  {
   "cell_type": "code",
   "execution_count": 34,
   "id": "4b368580",
   "metadata": {},
   "outputs": [
    {
     "data": {
      "text/plain": [
       "{'criterion': <hyperopt.pyll.base.Apply at 0x1ac3cbdc6a0>,\n",
       " 'max_depth': <hyperopt.pyll.base.Apply at 0x1ac3cbd2cd0>,\n",
       " 'max_features': <hyperopt.pyll.base.Apply at 0x1ac3cbd2a00>,\n",
       " 'min_samples_leaf': <hyperopt.pyll.base.Apply at 0x1ac3cbd2d60>,\n",
       " 'min_samples_split': <hyperopt.pyll.base.Apply at 0x1ac3cbd28b0>,\n",
       " 'n_estimators': <hyperopt.pyll.base.Apply at 0x1ac3c5a0ca0>}"
      ]
     },
     "execution_count": 34,
     "metadata": {},
     "output_type": "execute_result"
    }
   ],
   "source": [
    "space = {'criterion': hp.choice('criterion', ['entropy', 'gini']),\n",
    "        'max_depth': hp.quniform('max_depth', 10, 1200, 10),\n",
    "        'max_features': hp.choice('max_features', ['auto', 'sqrt','log2', None]),\n",
    "        'min_samples_leaf': hp.uniform('min_samples_leaf', 0, 0.5),\n",
    "        'min_samples_split' : hp.uniform ('min_samples_split', 0, 1),\n",
    "        'n_estimators' : hp.choice('n_estimators', [10, 50, 300, 750, 1200,1300,1500])\n",
    "        }\n",
    "space"
   ]
  },
  {
   "cell_type": "code",
   "execution_count": null,
   "id": "dd08ab17",
   "metadata": {},
   "outputs": [],
   "source": [
    "def objective(space):\n",
    "    model = RandomForestClassifier()"
   ]
  }
 ],
 "metadata": {
  "kernelspec": {
   "display_name": "Python 3",
   "language": "python",
   "name": "python3"
  },
  "language_info": {
   "codemirror_mode": {
    "name": "ipython",
    "version": 3
   },
   "file_extension": ".py",
   "mimetype": "text/x-python",
   "name": "python",
   "nbconvert_exporter": "python",
   "pygments_lexer": "ipython3",
   "version": "3.9.5"
  }
 },
 "nbformat": 4,
 "nbformat_minor": 5
}
